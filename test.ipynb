{
 "cells": [
  {
   "cell_type": "code",
   "execution_count": 1,
   "metadata": {},
   "outputs": [
    {
     "ename": "AssertionError",
     "evalue": "Missing state_id column in the dataset. Each group entity must have an ID array defined for ETERNITY.",
     "output_type": "error",
     "traceback": [
      "\u001b[0;31m---------------------------------------------------------------------------\u001b[0m",
      "\u001b[0;31mAssertionError\u001b[0m                            Traceback (most recent call last)",
      "\u001b[0;32m/var/folders/qf/7fglpnr94wsc5xgbqkp80xbw0000gn/T/ipykernel_10234/4153762589.py\u001b[0m in \u001b[0;36m<cell line: 11>\u001b[0;34m()\u001b[0m\n\u001b[1;32m      9\u001b[0m \u001b[0;31m# }, country_id=\"it\")\u001b[0m\u001b[0;34m\u001b[0m\u001b[0;34m\u001b[0m\u001b[0m\n\u001b[1;32m     10\u001b[0m \u001b[0;34m\u001b[0m\u001b[0m\n\u001b[0;32m---> 11\u001b[0;31m \u001b[0mbaseline\u001b[0m \u001b[0;34m=\u001b[0m \u001b[0mMicrosimulation\u001b[0m\u001b[0;34m(\u001b[0m\u001b[0;34m)\u001b[0m\u001b[0;34m\u001b[0m\u001b[0;34m\u001b[0m\u001b[0m\n\u001b[0m\u001b[1;32m     12\u001b[0m \u001b[0;31m# reformed = Microsimulation(reform=reform)\u001b[0m\u001b[0;34m\u001b[0m\u001b[0;34m\u001b[0m\u001b[0m\n\u001b[1;32m     13\u001b[0m \u001b[0mbaseline_person\u001b[0m \u001b[0;34m=\u001b[0m \u001b[0mbaseline\u001b[0m\u001b[0;34m.\u001b[0m\u001b[0mcalculate\u001b[0m\u001b[0;34m(\u001b[0m\u001b[0;34m\"household_net_income\"\u001b[0m\u001b[0;34m,\u001b[0m \u001b[0mperiod\u001b[0m\u001b[0;34m=\u001b[0m\u001b[0;36m2024\u001b[0m\u001b[0;34m,\u001b[0m \u001b[0mmap_to\u001b[0m\u001b[0;34m=\u001b[0m\u001b[0;34m\"person\"\u001b[0m\u001b[0;34m)\u001b[0m\u001b[0;34m\u001b[0m\u001b[0;34m\u001b[0m\u001b[0m\n",
      "\u001b[0;32m/opt/miniconda3/envs/it/lib/python3.10/site-packages/policyengine_core/simulations/simulation.py\u001b[0m in \u001b[0;36m__init__\u001b[0;34m(self, tax_benefit_system, populations, situation, dataset, reform, trace)\u001b[0m\n\u001b[1;32m    166\u001b[0m             \u001b[0;32melse\u001b[0m\u001b[0;34m:\u001b[0m\u001b[0;34m\u001b[0m\u001b[0;34m\u001b[0m\u001b[0m\n\u001b[1;32m    167\u001b[0m                 \u001b[0mself\u001b[0m\u001b[0;34m.\u001b[0m\u001b[0mdataset\u001b[0m \u001b[0;34m=\u001b[0m \u001b[0mdataset\u001b[0m\u001b[0;34m\u001b[0m\u001b[0;34m\u001b[0m\u001b[0m\n\u001b[0;32m--> 168\u001b[0;31m             \u001b[0mself\u001b[0m\u001b[0;34m.\u001b[0m\u001b[0mbuild_from_dataset\u001b[0m\u001b[0;34m(\u001b[0m\u001b[0;34m)\u001b[0m\u001b[0;34m\u001b[0m\u001b[0;34m\u001b[0m\u001b[0m\n\u001b[0m\u001b[1;32m    169\u001b[0m \u001b[0;34m\u001b[0m\u001b[0m\n\u001b[1;32m    170\u001b[0m         \u001b[0;31m# Backwards compatibility methods\u001b[0m\u001b[0;34m\u001b[0m\u001b[0;34m\u001b[0m\u001b[0m\n",
      "\u001b[0;32m/opt/miniconda3/envs/it/lib/python3.10/site-packages/policyengine_core/simulations/simulation.py\u001b[0m in \u001b[0;36mbuild_from_dataset\u001b[0;34m(self)\u001b[0m\n\u001b[1;32m    263\u001b[0m             \u001b[0mentity_id_field\u001b[0m \u001b[0;34m=\u001b[0m \u001b[0;34mf\"{group_entity.key}_id\"\u001b[0m\u001b[0;34m\u001b[0m\u001b[0;34m\u001b[0m\u001b[0m\n\u001b[1;32m    264\u001b[0m             assert (\n\u001b[0;32m--> 265\u001b[0;31m                 \u001b[0mentity_id_field\u001b[0m \u001b[0;32min\u001b[0m \u001b[0mdata\u001b[0m\u001b[0;34m\u001b[0m\u001b[0;34m\u001b[0m\u001b[0m\n\u001b[0m\u001b[1;32m    266\u001b[0m             ), f\"Missing {entity_id_field} column in the dataset. Each group entity must have an ID array defined for ETERNITY.\"\n\u001b[1;32m    267\u001b[0m \u001b[0;34m\u001b[0m\u001b[0m\n",
      "\u001b[0;31mAssertionError\u001b[0m: Missing state_id column in the dataset. Each group entity must have an ID array defined for ETERNITY."
     ]
    }
   ],
   "source": [
    "from policyengine_it import Microsimulation\n",
    "# from policyengine_core.reforms import Reform\n",
    "\n",
    "\n",
    "# reform = Reform.from_dict({\n",
    "#   \"gov.hmrc.income_tax.rates.uk[0].rate\": {\n",
    "#     \"2022-01-01.2027-12-31\": 0.19\n",
    "#   }\n",
    "# }, country_id=\"it\")\n",
    "\n",
    "baseline = Microsimulation()\n",
    "# reformed = Microsimulation(reform=reform)\n",
    "baseline_person = baseline.calculate(\"household_net_income\", period=2024, map_to=\"person\")\n",
    "# reformed_person = reformed.calculate(\"household_net_income\", period=2024, map_to=\"person\")\n",
    "# difference_person = reformed_person - baseline_person\n",
    "print(baseline_person)"
   ]
  }
 ],
 "metadata": {
  "kernelspec": {
   "display_name": "it",
   "language": "python",
   "name": "python3"
  },
  "language_info": {
   "codemirror_mode": {
    "name": "ipython",
    "version": 3
   },
   "file_extension": ".py",
   "mimetype": "text/x-python",
   "name": "python",
   "nbconvert_exporter": "python",
   "pygments_lexer": "ipython3",
   "version": "3.10.14"
  }
 },
 "nbformat": 4,
 "nbformat_minor": 2
}
