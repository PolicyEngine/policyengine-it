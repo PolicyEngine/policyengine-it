{
 "cells": [
  {
   "cell_type": "code",
   "execution_count": null,
   "metadata": {},
   "outputs": [],
   "source": [
    "from policyengine_it import Microsimulation\n",
    "from policyengine_core.reforms import Reform\n",
    "\n",
    "\n",
    "# reform = Reform.from_dict({\n",
    "#   \"gov.hmrc.income_tax.rates.uk[0].rate\": {\n",
    "#     \"2022-01-01.2027-12-31\": 0.19\n",
    "#   }\n",
    "# }, country_id=\"it\")\n",
    "\n",
    "baseline = Microsimulation()\n",
    "# reformed = Microsimulation(reform=reform)\n",
    "baseline_person = baseline.calculate(\"household_net_income\", period=2024, map_to=\"person\")\n",
    "# reformed_person = reformed.calculate(\"household_net_income\", period=2024, map_to=\"person\")\n",
    "# difference_person = reformed_person - baseline_person\n",
    "print(baseline_person)"
   ]
  }
 ],
 "metadata": {
  "language_info": {
   "name": "python"
  }
 },
 "nbformat": 4,
 "nbformat_minor": 2
}
